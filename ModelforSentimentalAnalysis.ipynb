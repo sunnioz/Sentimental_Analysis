{
  "nbformat": 4,
  "nbformat_minor": 0,
  "metadata": {
    "colab": {
      "provenance": []
    },
    "kernelspec": {
      "name": "python3",
      "display_name": "Python 3"
    },
    "language_info": {
      "name": "python"
    }
  },
  "cells": [
    {
      "cell_type": "code",
      "execution_count": 3,
      "metadata": {
        "id": "K-s9QhEkWZ3e"
      },
      "outputs": [],
      "source": [
        "import pandas as pd\n",
        "import numpy as np"
      ]
    },
    {
      "cell_type": "code",
      "source": [
        "df = pd.read_csv('/content/drive/MyDrive/Big_Data/data_clean.csv')\n",
        "df"
      ],
      "metadata": {
        "colab": {
          "base_uri": "https://localhost:8080/",
          "height": 423
        },
        "id": "5z1DRZMxWpcx",
        "outputId": "8d78af0b-1faf-49ff-e95f-d47106c256af"
      },
      "execution_count": 4,
      "outputs": [
        {
          "output_type": "execute_result",
          "data": {
            "text/plain": [
              "                                                 comment     label\n",
              "0      microphone bad cannot use zoom meet youre not ...  negative\n",
              "1      buy early january great theyre comfortable goo...  positive\n",
              "2                dis like ear bud no base soundu get pay  negative\n",
              "3         weeks one ear bud already break hear leave one  negative\n",
              "4      cheaply make try replace silicone cap earbud c...  negative\n",
              "...                                                  ...       ...\n",
              "18649  best market dj musician regular old person lov...  negative\n",
              "18650  great comfortable light wear hours game watch ...  positive\n",
              "18651  look close back use along side sennheiser hd s...  positive\n",
              "18652  perfect studio use need lot power drive things...  positive\n",
              "18653  really enjoy comfortable give great bring orig...  positive\n",
              "\n",
              "[18654 rows x 2 columns]"
            ],
            "text/html": [
              "\n",
              "  <div id=\"df-6ebec3aa-0e84-4638-8281-8b5a76ebc638\" class=\"colab-df-container\">\n",
              "    <div>\n",
              "<style scoped>\n",
              "    .dataframe tbody tr th:only-of-type {\n",
              "        vertical-align: middle;\n",
              "    }\n",
              "\n",
              "    .dataframe tbody tr th {\n",
              "        vertical-align: top;\n",
              "    }\n",
              "\n",
              "    .dataframe thead th {\n",
              "        text-align: right;\n",
              "    }\n",
              "</style>\n",
              "<table border=\"1\" class=\"dataframe\">\n",
              "  <thead>\n",
              "    <tr style=\"text-align: right;\">\n",
              "      <th></th>\n",
              "      <th>comment</th>\n",
              "      <th>label</th>\n",
              "    </tr>\n",
              "  </thead>\n",
              "  <tbody>\n",
              "    <tr>\n",
              "      <th>0</th>\n",
              "      <td>microphone bad cannot use zoom meet youre not ...</td>\n",
              "      <td>negative</td>\n",
              "    </tr>\n",
              "    <tr>\n",
              "      <th>1</th>\n",
              "      <td>buy early january great theyre comfortable goo...</td>\n",
              "      <td>positive</td>\n",
              "    </tr>\n",
              "    <tr>\n",
              "      <th>2</th>\n",
              "      <td>dis like ear bud no base soundu get pay</td>\n",
              "      <td>negative</td>\n",
              "    </tr>\n",
              "    <tr>\n",
              "      <th>3</th>\n",
              "      <td>weeks one ear bud already break hear leave one</td>\n",
              "      <td>negative</td>\n",
              "    </tr>\n",
              "    <tr>\n",
              "      <th>4</th>\n",
              "      <td>cheaply make try replace silicone cap earbud c...</td>\n",
              "      <td>negative</td>\n",
              "    </tr>\n",
              "    <tr>\n",
              "      <th>...</th>\n",
              "      <td>...</td>\n",
              "      <td>...</td>\n",
              "    </tr>\n",
              "    <tr>\n",
              "      <th>18649</th>\n",
              "      <td>best market dj musician regular old person lov...</td>\n",
              "      <td>negative</td>\n",
              "    </tr>\n",
              "    <tr>\n",
              "      <th>18650</th>\n",
              "      <td>great comfortable light wear hours game watch ...</td>\n",
              "      <td>positive</td>\n",
              "    </tr>\n",
              "    <tr>\n",
              "      <th>18651</th>\n",
              "      <td>look close back use along side sennheiser hd s...</td>\n",
              "      <td>positive</td>\n",
              "    </tr>\n",
              "    <tr>\n",
              "      <th>18652</th>\n",
              "      <td>perfect studio use need lot power drive things...</td>\n",
              "      <td>positive</td>\n",
              "    </tr>\n",
              "    <tr>\n",
              "      <th>18653</th>\n",
              "      <td>really enjoy comfortable give great bring orig...</td>\n",
              "      <td>positive</td>\n",
              "    </tr>\n",
              "  </tbody>\n",
              "</table>\n",
              "<p>18654 rows × 2 columns</p>\n",
              "</div>\n",
              "    <div class=\"colab-df-buttons\">\n",
              "\n",
              "  <div class=\"colab-df-container\">\n",
              "    <button class=\"colab-df-convert\" onclick=\"convertToInteractive('df-6ebec3aa-0e84-4638-8281-8b5a76ebc638')\"\n",
              "            title=\"Convert this dataframe to an interactive table.\"\n",
              "            style=\"display:none;\">\n",
              "\n",
              "  <svg xmlns=\"http://www.w3.org/2000/svg\" height=\"24px\" viewBox=\"0 -960 960 960\">\n",
              "    <path d=\"M120-120v-720h720v720H120Zm60-500h600v-160H180v160Zm220 220h160v-160H400v160Zm0 220h160v-160H400v160ZM180-400h160v-160H180v160Zm440 0h160v-160H620v160ZM180-180h160v-160H180v160Zm440 0h160v-160H620v160Z\"/>\n",
              "  </svg>\n",
              "    </button>\n",
              "\n",
              "  <style>\n",
              "    .colab-df-container {\n",
              "      display:flex;\n",
              "      gap: 12px;\n",
              "    }\n",
              "\n",
              "    .colab-df-convert {\n",
              "      background-color: #E8F0FE;\n",
              "      border: none;\n",
              "      border-radius: 50%;\n",
              "      cursor: pointer;\n",
              "      display: none;\n",
              "      fill: #1967D2;\n",
              "      height: 32px;\n",
              "      padding: 0 0 0 0;\n",
              "      width: 32px;\n",
              "    }\n",
              "\n",
              "    .colab-df-convert:hover {\n",
              "      background-color: #E2EBFA;\n",
              "      box-shadow: 0px 1px 2px rgba(60, 64, 67, 0.3), 0px 1px 3px 1px rgba(60, 64, 67, 0.15);\n",
              "      fill: #174EA6;\n",
              "    }\n",
              "\n",
              "    .colab-df-buttons div {\n",
              "      margin-bottom: 4px;\n",
              "    }\n",
              "\n",
              "    [theme=dark] .colab-df-convert {\n",
              "      background-color: #3B4455;\n",
              "      fill: #D2E3FC;\n",
              "    }\n",
              "\n",
              "    [theme=dark] .colab-df-convert:hover {\n",
              "      background-color: #434B5C;\n",
              "      box-shadow: 0px 1px 3px 1px rgba(0, 0, 0, 0.15);\n",
              "      filter: drop-shadow(0px 1px 2px rgba(0, 0, 0, 0.3));\n",
              "      fill: #FFFFFF;\n",
              "    }\n",
              "  </style>\n",
              "\n",
              "    <script>\n",
              "      const buttonEl =\n",
              "        document.querySelector('#df-6ebec3aa-0e84-4638-8281-8b5a76ebc638 button.colab-df-convert');\n",
              "      buttonEl.style.display =\n",
              "        google.colab.kernel.accessAllowed ? 'block' : 'none';\n",
              "\n",
              "      async function convertToInteractive(key) {\n",
              "        const element = document.querySelector('#df-6ebec3aa-0e84-4638-8281-8b5a76ebc638');\n",
              "        const dataTable =\n",
              "          await google.colab.kernel.invokeFunction('convertToInteractive',\n",
              "                                                    [key], {});\n",
              "        if (!dataTable) return;\n",
              "\n",
              "        const docLinkHtml = 'Like what you see? Visit the ' +\n",
              "          '<a target=\"_blank\" href=https://colab.research.google.com/notebooks/data_table.ipynb>data table notebook</a>'\n",
              "          + ' to learn more about interactive tables.';\n",
              "        element.innerHTML = '';\n",
              "        dataTable['output_type'] = 'display_data';\n",
              "        await google.colab.output.renderOutput(dataTable, element);\n",
              "        const docLink = document.createElement('div');\n",
              "        docLink.innerHTML = docLinkHtml;\n",
              "        element.appendChild(docLink);\n",
              "      }\n",
              "    </script>\n",
              "  </div>\n",
              "\n",
              "\n",
              "<div id=\"df-db131c20-0a5d-45a3-8258-8eb31b97d759\">\n",
              "  <button class=\"colab-df-quickchart\" onclick=\"quickchart('df-db131c20-0a5d-45a3-8258-8eb31b97d759')\"\n",
              "            title=\"Suggest charts\"\n",
              "            style=\"display:none;\">\n",
              "\n",
              "<svg xmlns=\"http://www.w3.org/2000/svg\" height=\"24px\"viewBox=\"0 0 24 24\"\n",
              "     width=\"24px\">\n",
              "    <g>\n",
              "        <path d=\"M19 3H5c-1.1 0-2 .9-2 2v14c0 1.1.9 2 2 2h14c1.1 0 2-.9 2-2V5c0-1.1-.9-2-2-2zM9 17H7v-7h2v7zm4 0h-2V7h2v10zm4 0h-2v-4h2v4z\"/>\n",
              "    </g>\n",
              "</svg>\n",
              "  </button>\n",
              "\n",
              "<style>\n",
              "  .colab-df-quickchart {\n",
              "      --bg-color: #E8F0FE;\n",
              "      --fill-color: #1967D2;\n",
              "      --hover-bg-color: #E2EBFA;\n",
              "      --hover-fill-color: #174EA6;\n",
              "      --disabled-fill-color: #AAA;\n",
              "      --disabled-bg-color: #DDD;\n",
              "  }\n",
              "\n",
              "  [theme=dark] .colab-df-quickchart {\n",
              "      --bg-color: #3B4455;\n",
              "      --fill-color: #D2E3FC;\n",
              "      --hover-bg-color: #434B5C;\n",
              "      --hover-fill-color: #FFFFFF;\n",
              "      --disabled-bg-color: #3B4455;\n",
              "      --disabled-fill-color: #666;\n",
              "  }\n",
              "\n",
              "  .colab-df-quickchart {\n",
              "    background-color: var(--bg-color);\n",
              "    border: none;\n",
              "    border-radius: 50%;\n",
              "    cursor: pointer;\n",
              "    display: none;\n",
              "    fill: var(--fill-color);\n",
              "    height: 32px;\n",
              "    padding: 0;\n",
              "    width: 32px;\n",
              "  }\n",
              "\n",
              "  .colab-df-quickchart:hover {\n",
              "    background-color: var(--hover-bg-color);\n",
              "    box-shadow: 0 1px 2px rgba(60, 64, 67, 0.3), 0 1px 3px 1px rgba(60, 64, 67, 0.15);\n",
              "    fill: var(--button-hover-fill-color);\n",
              "  }\n",
              "\n",
              "  .colab-df-quickchart-complete:disabled,\n",
              "  .colab-df-quickchart-complete:disabled:hover {\n",
              "    background-color: var(--disabled-bg-color);\n",
              "    fill: var(--disabled-fill-color);\n",
              "    box-shadow: none;\n",
              "  }\n",
              "\n",
              "  .colab-df-spinner {\n",
              "    border: 2px solid var(--fill-color);\n",
              "    border-color: transparent;\n",
              "    border-bottom-color: var(--fill-color);\n",
              "    animation:\n",
              "      spin 1s steps(1) infinite;\n",
              "  }\n",
              "\n",
              "  @keyframes spin {\n",
              "    0% {\n",
              "      border-color: transparent;\n",
              "      border-bottom-color: var(--fill-color);\n",
              "      border-left-color: var(--fill-color);\n",
              "    }\n",
              "    20% {\n",
              "      border-color: transparent;\n",
              "      border-left-color: var(--fill-color);\n",
              "      border-top-color: var(--fill-color);\n",
              "    }\n",
              "    30% {\n",
              "      border-color: transparent;\n",
              "      border-left-color: var(--fill-color);\n",
              "      border-top-color: var(--fill-color);\n",
              "      border-right-color: var(--fill-color);\n",
              "    }\n",
              "    40% {\n",
              "      border-color: transparent;\n",
              "      border-right-color: var(--fill-color);\n",
              "      border-top-color: var(--fill-color);\n",
              "    }\n",
              "    60% {\n",
              "      border-color: transparent;\n",
              "      border-right-color: var(--fill-color);\n",
              "    }\n",
              "    80% {\n",
              "      border-color: transparent;\n",
              "      border-right-color: var(--fill-color);\n",
              "      border-bottom-color: var(--fill-color);\n",
              "    }\n",
              "    90% {\n",
              "      border-color: transparent;\n",
              "      border-bottom-color: var(--fill-color);\n",
              "    }\n",
              "  }\n",
              "</style>\n",
              "\n",
              "  <script>\n",
              "    async function quickchart(key) {\n",
              "      const quickchartButtonEl =\n",
              "        document.querySelector('#' + key + ' button');\n",
              "      quickchartButtonEl.disabled = true;  // To prevent multiple clicks.\n",
              "      quickchartButtonEl.classList.add('colab-df-spinner');\n",
              "      try {\n",
              "        const charts = await google.colab.kernel.invokeFunction(\n",
              "            'suggestCharts', [key], {});\n",
              "      } catch (error) {\n",
              "        console.error('Error during call to suggestCharts:', error);\n",
              "      }\n",
              "      quickchartButtonEl.classList.remove('colab-df-spinner');\n",
              "      quickchartButtonEl.classList.add('colab-df-quickchart-complete');\n",
              "    }\n",
              "    (() => {\n",
              "      let quickchartButtonEl =\n",
              "        document.querySelector('#df-db131c20-0a5d-45a3-8258-8eb31b97d759 button');\n",
              "      quickchartButtonEl.style.display =\n",
              "        google.colab.kernel.accessAllowed ? 'block' : 'none';\n",
              "    })();\n",
              "  </script>\n",
              "</div>\n",
              "\n",
              "  <div id=\"id_3c649da3-5428-4456-9062-bf472fe6e4a4\">\n",
              "    <style>\n",
              "      .colab-df-generate {\n",
              "        background-color: #E8F0FE;\n",
              "        border: none;\n",
              "        border-radius: 50%;\n",
              "        cursor: pointer;\n",
              "        display: none;\n",
              "        fill: #1967D2;\n",
              "        height: 32px;\n",
              "        padding: 0 0 0 0;\n",
              "        width: 32px;\n",
              "      }\n",
              "\n",
              "      .colab-df-generate:hover {\n",
              "        background-color: #E2EBFA;\n",
              "        box-shadow: 0px 1px 2px rgba(60, 64, 67, 0.3), 0px 1px 3px 1px rgba(60, 64, 67, 0.15);\n",
              "        fill: #174EA6;\n",
              "      }\n",
              "\n",
              "      [theme=dark] .colab-df-generate {\n",
              "        background-color: #3B4455;\n",
              "        fill: #D2E3FC;\n",
              "      }\n",
              "\n",
              "      [theme=dark] .colab-df-generate:hover {\n",
              "        background-color: #434B5C;\n",
              "        box-shadow: 0px 1px 3px 1px rgba(0, 0, 0, 0.15);\n",
              "        filter: drop-shadow(0px 1px 2px rgba(0, 0, 0, 0.3));\n",
              "        fill: #FFFFFF;\n",
              "      }\n",
              "    </style>\n",
              "    <button class=\"colab-df-generate\" onclick=\"generateWithVariable('df')\"\n",
              "            title=\"Generate code using this dataframe.\"\n",
              "            style=\"display:none;\">\n",
              "\n",
              "  <svg xmlns=\"http://www.w3.org/2000/svg\" height=\"24px\"viewBox=\"0 0 24 24\"\n",
              "       width=\"24px\">\n",
              "    <path d=\"M7,19H8.4L18.45,9,17,7.55,7,17.6ZM5,21V16.75L18.45,3.32a2,2,0,0,1,2.83,0l1.4,1.43a1.91,1.91,0,0,1,.58,1.4,1.91,1.91,0,0,1-.58,1.4L9.25,21ZM18.45,9,17,7.55Zm-12,3A5.31,5.31,0,0,0,4.9,8.1,5.31,5.31,0,0,0,1,6.5,5.31,5.31,0,0,0,4.9,4.9,5.31,5.31,0,0,0,6.5,1,5.31,5.31,0,0,0,8.1,4.9,5.31,5.31,0,0,0,12,6.5,5.46,5.46,0,0,0,6.5,12Z\"/>\n",
              "  </svg>\n",
              "    </button>\n",
              "    <script>\n",
              "      (() => {\n",
              "      const buttonEl =\n",
              "        document.querySelector('#id_3c649da3-5428-4456-9062-bf472fe6e4a4 button.colab-df-generate');\n",
              "      buttonEl.style.display =\n",
              "        google.colab.kernel.accessAllowed ? 'block' : 'none';\n",
              "\n",
              "      buttonEl.onclick = () => {\n",
              "        google.colab.notebook.generateWithVariable('df');\n",
              "      }\n",
              "      })();\n",
              "    </script>\n",
              "  </div>\n",
              "\n",
              "    </div>\n",
              "  </div>\n"
            ],
            "application/vnd.google.colaboratory.intrinsic+json": {
              "type": "dataframe",
              "variable_name": "df",
              "summary": "{\n  \"name\": \"df\",\n  \"rows\": 18654,\n  \"fields\": [\n    {\n      \"column\": \"comment\",\n      \"properties\": {\n        \"dtype\": \"string\",\n        \"num_unique_values\": 18064,\n        \"samples\": [\n          \"ear bud good dont want stay ear even try switch ear plug smaller piece see would fit better nope still no prevail\",\n          \"material around ear piece low quality mine start break low usage customer service sony nonexistent contact consumer division tell contact professional division sony professional refer sony consumer six try im give last resort\",\n          \"product good\"\n        ],\n        \"semantic_type\": \"\",\n        \"description\": \"\"\n      }\n    },\n    {\n      \"column\": \"label\",\n      \"properties\": {\n        \"dtype\": \"category\",\n        \"num_unique_values\": 2,\n        \"samples\": [\n          \"positive\",\n          \"negative\"\n        ],\n        \"semantic_type\": \"\",\n        \"description\": \"\"\n      }\n    }\n  ]\n}"
            }
          },
          "metadata": {},
          "execution_count": 4
        }
      ]
    },
    {
      "cell_type": "markdown",
      "source": [
        "Naive Bayes"
      ],
      "metadata": {
        "id": "R4Myxec6ge4Q"
      }
    },
    {
      "cell_type": "code",
      "source": [
        "l = []\n",
        "for i in df['label']:\n",
        "  if i == 'negative':\n",
        "    l.append(0)\n",
        "  else:\n",
        "    l.append(1)"
      ],
      "metadata": {
        "id": "3twXvYAsYng6"
      },
      "execution_count": 5,
      "outputs": []
    },
    {
      "cell_type": "code",
      "source": [
        "l = np.array(l)\n",
        "l"
      ],
      "metadata": {
        "colab": {
          "base_uri": "https://localhost:8080/"
        },
        "id": "gn_FTmDIY5GI",
        "outputId": "c7902941-1150-49ae-fe08-88da7cbcfc5f"
      },
      "execution_count": 6,
      "outputs": [
        {
          "output_type": "execute_result",
          "data": {
            "text/plain": [
              "array([0, 1, 0, ..., 1, 1, 1])"
            ]
          },
          "metadata": {},
          "execution_count": 6
        }
      ]
    },
    {
      "cell_type": "code",
      "source": [
        "df['comment']=df['comment'].apply(lambda x: str(x))"
      ],
      "metadata": {
        "id": "UmD4Es_0Y8r2"
      },
      "execution_count": 7,
      "outputs": []
    },
    {
      "cell_type": "code",
      "source": [
        "from sklearn.feature_extraction.text import CountVectorizer\n",
        "from nltk.tokenize import RegexpTokenizer\n",
        "token = RegexpTokenizer(r'[a-zA-Z0-9]+')\n",
        "cv = CountVectorizer(stop_words='english',ngram_range = (1,1),tokenizer = token.tokenize)\n",
        "text_counts = cv.fit_transform(df['comment'])"
      ],
      "metadata": {
        "colab": {
          "base_uri": "https://localhost:8080/"
        },
        "id": "N3c-7Aj4ZReL",
        "outputId": "88662c20-33e5-40dc-d279-e82c967e0cd0"
      },
      "execution_count": 8,
      "outputs": [
        {
          "output_type": "stream",
          "name": "stderr",
          "text": [
            "/usr/local/lib/python3.10/dist-packages/sklearn/feature_extraction/text.py:528: UserWarning: The parameter 'token_pattern' will not be used since 'tokenizer' is not None'\n",
            "  warnings.warn(\n"
          ]
        }
      ]
    },
    {
      "cell_type": "code",
      "source": [
        "from sklearn.model_selection import train_test_split\n",
        "X=text_counts\n",
        "y= l\n",
        "X_train, X_test, y_train, y_test = train_test_split(X, y, test_size=0.20,random_state=30)"
      ],
      "metadata": {
        "id": "MBKr4JxAZ5Vh"
      },
      "execution_count": 9,
      "outputs": []
    },
    {
      "cell_type": "code",
      "source": [
        "from sklearn.naive_bayes import ComplementNB\n",
        "from sklearn.metrics import classification_report, confusion_matrix\n",
        "CNB = ComplementNB()\n",
        "CNB.fit(X_train, y_train)\n",
        "\n",
        "from sklearn import metrics\n",
        "predicted = CNB.predict(X_test)\n",
        "accuracy_score = metrics.accuracy_score(predicted, y_test)\n",
        "\n",
        "print('ComplementNB model accuracy is',str('{:04.2f}'.format(accuracy_score*100))+'%')\n",
        "print('------------------------------------------------')\n",
        "print('Confusion Matrix:')\n",
        "print(pd.DataFrame(confusion_matrix(y_test, predicted)))\n",
        "print('------------------------------------------------')\n",
        "print('Classification Report:')\n",
        "print(classification_report(y_test, predicted))"
      ],
      "metadata": {
        "colab": {
          "base_uri": "https://localhost:8080/"
        },
        "id": "K8NKwPNrbmB4",
        "outputId": "82a9e426-7c0d-4883-9af1-66c4e66393e3"
      },
      "execution_count": 10,
      "outputs": [
        {
          "output_type": "stream",
          "name": "stdout",
          "text": [
            "ComplementNB model accuracy is 76.71%\n",
            "------------------------------------------------\n",
            "Confusion Matrix:\n",
            "     0     1\n",
            "0  605   387\n",
            "1  482  2257\n",
            "------------------------------------------------\n",
            "Classification Report:\n",
            "              precision    recall  f1-score   support\n",
            "\n",
            "           0       0.56      0.61      0.58       992\n",
            "           1       0.85      0.82      0.84      2739\n",
            "\n",
            "    accuracy                           0.77      3731\n",
            "   macro avg       0.71      0.72      0.71      3731\n",
            "weighted avg       0.77      0.77      0.77      3731\n",
            "\n"
          ]
        }
      ]
    },
    {
      "cell_type": "markdown",
      "source": [
        "BiLSTM"
      ],
      "metadata": {
        "id": "FU0YyKT0gktn"
      }
    },
    {
      "cell_type": "code",
      "source": [
        "import pandas as pd\n",
        "import numpy as np\n",
        "import matplotlib.pyplot as plt\n",
        "import seaborn as sns\n",
        "import tensorflow as tf\n",
        "from tensorflow.keras.layers import Dense, Dropout, BatchNormalization, Embedding, Flatten, Bidirectional, LSTM\n",
        "from tensorflow.keras.models import Sequential\n",
        "from tensorflow.keras.losses import BinaryCrossentropy, SparseCategoricalCrossentropy, CategoricalCrossentropy\n",
        "from tensorflow.keras.optimizers import Adam, RMSprop, SGD\n",
        "from tensorflow.keras.preprocessing.text import Tokenizer\n",
        "from tensorflow.keras.preprocessing.sequence import pad_sequences\n",
        "from tensorflow.keras.callbacks import EarlyStopping\n",
        "from sklearn.model_selection import train_test_split\n",
        "from sklearn.preprocessing import LabelEncoder, OneHotEncoder\n",
        "import nltk\n",
        "from nltk.corpus import stopwords\n",
        "from nltk.stem import PorterStemmer\n",
        "from nltk.tokenize import word_tokenize\n",
        "from nltk.corpus import wordnet\n",
        "from nltk.stem import WordNetLemmatizer\n",
        "import re"
      ],
      "metadata": {
        "id": "FMMxc3aBgmDB"
      },
      "execution_count": 29,
      "outputs": []
    },
    {
      "cell_type": "code",
      "source": [],
      "metadata": {
        "id": "qok5-AmBkFMN"
      },
      "execution_count": null,
      "outputs": []
    },
    {
      "cell_type": "code",
      "source": [
        "Y = l\n",
        "X = df[\"comment\"]"
      ],
      "metadata": {
        "id": "GW03mVNPjtJj"
      },
      "execution_count": 30,
      "outputs": []
    },
    {
      "cell_type": "code",
      "source": [
        "vocab_size = 200000\n",
        "output_dim = 32\n",
        "max_length = 1800\n",
        "\n",
        "tokenizer = Tokenizer(num_words= vocab_size, oov_token= \"<OOV>\")\n",
        "tokenizer.fit_on_texts(X)\n",
        "X_sequences = tokenizer.texts_to_sequences(X)\n",
        "X_padded = pad_sequences(X_sequences, maxlen=max_length, truncating= \"post\", padding= \"post\")"
      ],
      "metadata": {
        "id": "Nlmq_C-3gyD4"
      },
      "execution_count": 31,
      "outputs": []
    },
    {
      "cell_type": "code",
      "source": [
        "from sklearn.preprocessing import OneHotEncoder"
      ],
      "metadata": {
        "id": "Ia802aqEg68F"
      },
      "execution_count": 32,
      "outputs": []
    },
    {
      "cell_type": "code",
      "source": [
        "One_hot = LabelEncoder()\n",
        "Y_target = One_hot.fit_transform(Y)\n",
        "Y_target.shape"
      ],
      "metadata": {
        "colab": {
          "base_uri": "https://localhost:8080/"
        },
        "id": "b1O1ADq0g-dv",
        "outputId": "ab9d6fc5-faed-4a54-916e-36cd0bb069ba"
      },
      "execution_count": 33,
      "outputs": [
        {
          "output_type": "execute_result",
          "data": {
            "text/plain": [
              "(18654,)"
            ]
          },
          "metadata": {},
          "execution_count": 33
        }
      ]
    },
    {
      "cell_type": "code",
      "source": [
        "#MCSHBAP - map, chache, shuffle, batch, prefetch  from_tensor_slices, list_file\n",
        "dataset = tf.data.Dataset.from_tensor_slices((X_padded, Y_target))\n",
        "dataset = dataset.cache()\n",
        "dataset = dataset.shuffle(160000)\n",
        "dataset = dataset.batch(512)\n",
        "dataset = dataset.prefetch(8) # helps bottlenecks"
      ],
      "metadata": {
        "id": "ATJxggt7hAE8"
      },
      "execution_count": 34,
      "outputs": []
    },
    {
      "cell_type": "code",
      "source": [
        "train = dataset.take(int(len(dataset)*.6))\n",
        "val = dataset.skip(int(len(dataset)*.7)).take(int(len(dataset)*.2))\n",
        "test = dataset.skip(int(len(dataset)*.9)).take(int(len(dataset)*.2))"
      ],
      "metadata": {
        "id": "zq-OEQq9hCBX"
      },
      "execution_count": 35,
      "outputs": []
    },
    {
      "cell_type": "code",
      "source": [
        "model = Sequential([\n",
        "    Embedding(input_dim= vocab_size, output_dim= output_dim, input_length= max_length),\n",
        "    Bidirectional(LSTM(output_dim, activation='tanh')),\n",
        "    Dense(128, activation= \"relu\"),\n",
        "    Dense(64, activation= \"relu\"),\n",
        "    Dense(32, activation= \"relu\"),\n",
        "    Dense(1, activation= \"sigmoid\")\n",
        "])\n",
        "\n",
        "model.compile(loss= BinaryCrossentropy(),\n",
        "              optimizer= Adam(learning_rate= 0.001),\n",
        "              metrics= [\"accuracy\"])"
      ],
      "metadata": {
        "id": "f7bBlgEihDeM"
      },
      "execution_count": 36,
      "outputs": []
    },
    {
      "cell_type": "code",
      "source": [
        "model.summary()"
      ],
      "metadata": {
        "colab": {
          "base_uri": "https://localhost:8080/"
        },
        "id": "P6RC_4brhE8s",
        "outputId": "2d339b67-5da3-459a-a790-39ae9ea61400"
      },
      "execution_count": 37,
      "outputs": [
        {
          "output_type": "stream",
          "name": "stdout",
          "text": [
            "Model: \"sequential_2\"\n",
            "_________________________________________________________________\n",
            " Layer (type)                Output Shape              Param #   \n",
            "=================================================================\n",
            " embedding_2 (Embedding)     (None, 1800, 32)          6400000   \n",
            "                                                                 \n",
            " bidirectional_2 (Bidirecti  (None, 64)                16640     \n",
            " onal)                                                           \n",
            "                                                                 \n",
            " dense_8 (Dense)             (None, 128)               8320      \n",
            "                                                                 \n",
            " dense_9 (Dense)             (None, 64)                8256      \n",
            "                                                                 \n",
            " dense_10 (Dense)            (None, 32)                2080      \n",
            "                                                                 \n",
            " dense_11 (Dense)            (None, 1)                 33        \n",
            "                                                                 \n",
            "=================================================================\n",
            "Total params: 6435329 (24.55 MB)\n",
            "Trainable params: 6435329 (24.55 MB)\n",
            "Non-trainable params: 0 (0.00 Byte)\n",
            "_________________________________________________________________\n"
          ]
        }
      ]
    },
    {
      "cell_type": "code",
      "source": [
        "def plot_training_history(history):\n",
        "    # Lấy các thông tin về mất mát và độ chính xác từ lịch sử huấn luyện\n",
        "    loss = history.history['loss']\n",
        "    val_loss = history.history['val_loss']\n",
        "    accuracy = history.history['accuracy']\n",
        "    val_accuracy = history.history['val_accuracy']\n",
        "\n",
        "    # Vẽ biểu đồ mất mát\n",
        "    plt.figure(figsize=(12, 6))\n",
        "    plt.subplot(1, 2, 1)\n",
        "    plt.plot(loss, label='Training Loss')\n",
        "    plt.plot(val_loss, label='Validation Loss')\n",
        "    plt.title('Training and Validation Loss')\n",
        "    plt.xlabel('Epoch')\n",
        "    plt.ylabel('Loss')\n",
        "    plt.legend()\n",
        "\n",
        "    # Vẽ biểu đồ độ chính xác\n",
        "    plt.subplot(1, 2, 2)\n",
        "    plt.plot(accuracy, label='Training Accuracy')\n",
        "    plt.plot(val_accuracy, label='Validation Accuracy')\n",
        "    plt.title('Training and Validation Accuracy')\n",
        "    plt.xlabel('Epoch')\n",
        "    plt.ylabel('Accuracy')\n",
        "    plt.legend()\n",
        "\n",
        "    plt.show()\n"
      ],
      "metadata": {
        "id": "Ws5_Gow1hGwp"
      },
      "execution_count": 38,
      "outputs": []
    },
    {
      "cell_type": "code",
      "source": [
        "import time\n",
        "start = time.time()\n",
        "# early_stopping = EarlyStopping(monitor='val_loss', patience=3, restore_best_weights=True)\n",
        "history = model.fit(train, epochs= 50, validation_data= val, verbose= 1)\n",
        "\n",
        "end = time.time()\n",
        "execution_time = end - start\n",
        "print(\"==============================\")\n",
        "print(\"execution_time: \", execution_time)\n",
        "print(\"==============================\")\n",
        "plot_training_history(history)"
      ],
      "metadata": {
        "colab": {
          "base_uri": "https://localhost:8080/",
          "height": 1000
        },
        "id": "JJNh7tIchXHl",
        "outputId": "672d0443-79e6-44a8-ca1a-3c2758d36fe8"
      },
      "execution_count": 39,
      "outputs": [
        {
          "output_type": "stream",
          "name": "stdout",
          "text": [
            "Epoch 1/50\n",
            "22/22 [==============================] - 16s 377ms/step - loss: 0.6382 - accuracy: 0.7120 - val_loss: 0.5951 - val_accuracy: 0.7190\n",
            "Epoch 2/50\n",
            "22/22 [==============================] - 9s 417ms/step - loss: 0.5667 - accuracy: 0.7342 - val_loss: 0.5544 - val_accuracy: 0.7257\n",
            "Epoch 3/50\n",
            "22/22 [==============================] - 7s 303ms/step - loss: 0.4823 - accuracy: 0.7374 - val_loss: 0.4425 - val_accuracy: 0.7623\n",
            "Epoch 4/50\n",
            "22/22 [==============================] - 8s 354ms/step - loss: 0.4868 - accuracy: 0.8085 - val_loss: 0.3920 - val_accuracy: 0.8064\n",
            "Epoch 5/50\n",
            "22/22 [==============================] - 6s 280ms/step - loss: 0.3601 - accuracy: 0.8349 - val_loss: 0.3193 - val_accuracy: 0.8630\n",
            "Epoch 6/50\n",
            "22/22 [==============================] - 6s 256ms/step - loss: 0.3079 - accuracy: 0.8688 - val_loss: 0.2895 - val_accuracy: 0.8783\n",
            "Epoch 7/50\n",
            "22/22 [==============================] - 7s 303ms/step - loss: 0.2807 - accuracy: 0.8875 - val_loss: 0.2346 - val_accuracy: 0.9082\n",
            "Epoch 8/50\n",
            "22/22 [==============================] - 6s 257ms/step - loss: 0.2512 - accuracy: 0.9005 - val_loss: 0.2236 - val_accuracy: 0.9163\n",
            "Epoch 9/50\n",
            "22/22 [==============================] - 6s 285ms/step - loss: 0.2238 - accuracy: 0.9158 - val_loss: 0.2005 - val_accuracy: 0.9300\n",
            "Epoch 10/50\n",
            "22/22 [==============================] - 6s 295ms/step - loss: 0.2033 - accuracy: 0.9235 - val_loss: 0.1872 - val_accuracy: 0.9325\n",
            "Epoch 11/50\n",
            "22/22 [==============================] - 6s 250ms/step - loss: 0.1890 - accuracy: 0.9316 - val_loss: 0.1651 - val_accuracy: 0.9378\n",
            "Epoch 12/50\n",
            "22/22 [==============================] - 6s 271ms/step - loss: 0.1741 - accuracy: 0.9383 - val_loss: 0.1650 - val_accuracy: 0.9414\n",
            "Epoch 13/50\n",
            "22/22 [==============================] - 6s 275ms/step - loss: 0.1588 - accuracy: 0.9466 - val_loss: 0.1464 - val_accuracy: 0.9517\n",
            "Epoch 14/50\n",
            "22/22 [==============================] - 6s 253ms/step - loss: 0.1561 - accuracy: 0.9439 - val_loss: 0.1318 - val_accuracy: 0.9612\n",
            "Epoch 15/50\n",
            "22/22 [==============================] - 6s 244ms/step - loss: 0.1451 - accuracy: 0.9504 - val_loss: 0.1362 - val_accuracy: 0.9542\n",
            "Epoch 16/50\n",
            "22/22 [==============================] - 6s 274ms/step - loss: 0.1412 - accuracy: 0.9515 - val_loss: 0.1296 - val_accuracy: 0.9573\n",
            "Epoch 17/50\n",
            "22/22 [==============================] - 5s 238ms/step - loss: 0.1417 - accuracy: 0.9518 - val_loss: 0.1165 - val_accuracy: 0.9609\n",
            "Epoch 18/50\n",
            "22/22 [==============================] - 6s 278ms/step - loss: 0.1268 - accuracy: 0.9582 - val_loss: 0.1135 - val_accuracy: 0.9607\n",
            "Epoch 19/50\n",
            "22/22 [==============================] - 5s 220ms/step - loss: 0.1210 - accuracy: 0.9612 - val_loss: 0.1049 - val_accuracy: 0.9676\n",
            "Epoch 20/50\n",
            "22/22 [==============================] - 5s 220ms/step - loss: 0.1116 - accuracy: 0.9632 - val_loss: 0.1097 - val_accuracy: 0.9662\n",
            "Epoch 21/50\n",
            "22/22 [==============================] - 5s 242ms/step - loss: 0.1086 - accuracy: 0.9665 - val_loss: 0.1093 - val_accuracy: 0.9643\n",
            "Epoch 22/50\n",
            "22/22 [==============================] - 5s 217ms/step - loss: 0.1128 - accuracy: 0.9641 - val_loss: 0.1133 - val_accuracy: 0.9668\n",
            "Epoch 23/50\n",
            "22/22 [==============================] - 5s 242ms/step - loss: 0.1060 - accuracy: 0.9666 - val_loss: 0.1009 - val_accuracy: 0.9668\n",
            "Epoch 24/50\n",
            "22/22 [==============================] - 6s 259ms/step - loss: 0.1029 - accuracy: 0.9667 - val_loss: 0.0994 - val_accuracy: 0.9704\n",
            "Epoch 25/50\n",
            "22/22 [==============================] - 5s 225ms/step - loss: 0.1070 - accuracy: 0.9669 - val_loss: 0.0936 - val_accuracy: 0.9715\n",
            "Epoch 26/50\n",
            "22/22 [==============================] - 5s 218ms/step - loss: 0.0949 - accuracy: 0.9696 - val_loss: 0.0885 - val_accuracy: 0.9727\n",
            "Epoch 27/50\n",
            "22/22 [==============================] - 4s 190ms/step - loss: 0.0953 - accuracy: 0.9697 - val_loss: 0.0938 - val_accuracy: 0.9729\n",
            "Epoch 28/50\n",
            "22/22 [==============================] - 5s 223ms/step - loss: 0.0941 - accuracy: 0.9706 - val_loss: 0.0986 - val_accuracy: 0.9685\n",
            "Epoch 29/50\n",
            "22/22 [==============================] - 5s 249ms/step - loss: 0.0883 - accuracy: 0.9731 - val_loss: 0.0981 - val_accuracy: 0.9738\n",
            "Epoch 30/50\n",
            "22/22 [==============================] - 5s 209ms/step - loss: 0.0890 - accuracy: 0.9728 - val_loss: 0.0927 - val_accuracy: 0.9715\n",
            "Epoch 31/50\n",
            "22/22 [==============================] - 5s 227ms/step - loss: 0.0963 - accuracy: 0.9680 - val_loss: 0.0817 - val_accuracy: 0.9735\n",
            "Epoch 32/50\n",
            "22/22 [==============================] - 5s 211ms/step - loss: 0.0924 - accuracy: 0.9696 - val_loss: 0.0816 - val_accuracy: 0.9724\n",
            "Epoch 33/50\n",
            "22/22 [==============================] - 5s 237ms/step - loss: 0.0825 - accuracy: 0.9732 - val_loss: 0.0854 - val_accuracy: 0.9735\n",
            "Epoch 34/50\n",
            "22/22 [==============================] - 5s 203ms/step - loss: 0.0854 - accuracy: 0.9728 - val_loss: 0.0707 - val_accuracy: 0.9768\n",
            "Epoch 35/50\n",
            "22/22 [==============================] - 5s 223ms/step - loss: 0.0794 - accuracy: 0.9759 - val_loss: 0.0648 - val_accuracy: 0.9824\n",
            "Epoch 36/50\n",
            "22/22 [==============================] - 5s 204ms/step - loss: 0.0739 - accuracy: 0.9777 - val_loss: 0.0870 - val_accuracy: 0.9729\n",
            "Epoch 37/50\n",
            "22/22 [==============================] - 4s 197ms/step - loss: 0.0737 - accuracy: 0.9779 - val_loss: 0.0638 - val_accuracy: 0.9813\n",
            "Epoch 38/50\n",
            "22/22 [==============================] - 5s 227ms/step - loss: 0.0717 - accuracy: 0.9782 - val_loss: 0.0689 - val_accuracy: 0.9785\n",
            "Epoch 39/50\n",
            "22/22 [==============================] - 5s 213ms/step - loss: 0.0718 - accuracy: 0.9781 - val_loss: 0.0718 - val_accuracy: 0.9794\n",
            "Epoch 40/50\n",
            "22/22 [==============================] - 4s 192ms/step - loss: 0.0637 - accuracy: 0.9814 - val_loss: 0.0598 - val_accuracy: 0.9841\n",
            "Epoch 41/50\n",
            "22/22 [==============================] - 5s 216ms/step - loss: 0.0762 - accuracy: 0.9763 - val_loss: 0.0646 - val_accuracy: 0.9799\n",
            "Epoch 42/50\n",
            "22/22 [==============================] - 4s 192ms/step - loss: 0.0645 - accuracy: 0.9799 - val_loss: 0.0599 - val_accuracy: 0.9813\n",
            "Epoch 43/50\n",
            "22/22 [==============================] - 4s 194ms/step - loss: 0.0588 - accuracy: 0.9824 - val_loss: 0.0591 - val_accuracy: 0.9824\n",
            "Epoch 44/50\n",
            "22/22 [==============================] - 5s 230ms/step - loss: 0.0611 - accuracy: 0.9829 - val_loss: 0.0628 - val_accuracy: 0.9824\n",
            "Epoch 45/50\n",
            "22/22 [==============================] - 4s 192ms/step - loss: 0.0550 - accuracy: 0.9841 - val_loss: 0.0516 - val_accuracy: 0.9852\n",
            "Epoch 46/50\n",
            "22/22 [==============================] - 5s 218ms/step - loss: 0.0580 - accuracy: 0.9830 - val_loss: 0.0408 - val_accuracy: 0.9880\n",
            "Epoch 47/50\n",
            "22/22 [==============================] - 4s 175ms/step - loss: 0.0508 - accuracy: 0.9855 - val_loss: 0.0473 - val_accuracy: 0.9880\n",
            "Epoch 48/50\n",
            "22/22 [==============================] - 4s 181ms/step - loss: 0.0517 - accuracy: 0.9854 - val_loss: 0.0460 - val_accuracy: 0.9858\n",
            "Epoch 49/50\n",
            "22/22 [==============================] - 4s 194ms/step - loss: 0.0548 - accuracy: 0.9827 - val_loss: 0.0628 - val_accuracy: 0.9824\n",
            "Epoch 50/50\n",
            "22/22 [==============================] - 5s 215ms/step - loss: 0.0518 - accuracy: 0.9850 - val_loss: 0.0465 - val_accuracy: 0.9877\n",
            "==============================\n",
            "execution_time:  313.54279041290283\n",
            "==============================\n"
          ]
        },
        {
          "output_type": "display_data",
          "data": {
            "text/plain": [
              "<Figure size 1200x600 with 2 Axes>"
            ],
            "image/png": "[encoded data removed]"
          },
          "metadata": {}
        }
      ]
    },
    {
      "cell_type": "code",
      "source": [],
      "metadata": {
        "id": "F1GpT7Y2jJ8j"
      },
      "execution_count": null,
      "outputs": []
    }
  ]
}